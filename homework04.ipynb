{
 "cells": [
  {
   "cell_type": "markdown",
   "metadata": {},
   "source": [
    "# Homework 4: Practical analysis with BioPython"
   ]
  },
  {
   "cell_type": "markdown",
   "metadata": {},
   "source": [
    "For the homework, you are going to extend the code from the analysis of our FASTQ file in lectures 8 and 9.\n",
    "Recall that the FASTQ file contains reads from a real sequencing run of influenza virus HA and NA genes.\n",
    "\n",
    "The _actual sequences_ are as follows:\n",
    "\n",
    "    5'-[end of HA]-AGGCGGCCGC-[16 X N barcode]-3'\n",
    "    \n",
    "or \n",
    "\n",
    "    5'-[end of NA]-AGGCGGCCGC-[16 X N barcode]-3'\n",
    "    \n",
    "The end of NA is:\n",
    "\n",
    "    ...CACGATAGATAAATAATAGTGCACCAT\n",
    "    \n",
    "The end of HA is:\n",
    "\n",
    "    ...CCGGATTTGCATATAATGATGCACCAT\n",
    "    \n",
    "The _sequencing reads_ (located in the FASTQ file) are from the reverse end of these actual sequences, so the first thing in the sequencing reads is the reverse complement of the barcode followed by the reverse complement of the constant sequence, etc.\n",
    "The reads can originate from **either** HA or NA, and that will be distinguished by the most 3' end of the read.\n",
    "But in our example exercise in class, we did not distinguish among reads matching to HA and NA, as we didn't even look far enough into the read to tell the identity.\n",
    "\n",
    "For the homework, your goal is to write code that extends the material from lectures 8 and 9 to also distinguish between HA and NA.\n",
    "This homework can be completed almost entirely by re-using code from lecture 9. You will need to set up your analysis to do the following:\n",
    " 1. Get the reverse complement of each read.\n",
    " 2. Determine if it matches the expected pattern for HA and NA, and if so which one.\n",
    " 3. If it matches, extract the barcode and add it to a dictionary to keep track of counts.\n",
    " 4. Determine the number and distribution of barcodes for HA and NA separately.\n",
    "\n",
    "Please include code to address each of the following questions. Please include code comments to explain what your code is attempting to accomplish. Don't forget to include references to the sources you used to obtain your answer, including your classmates (if you are working in groups).  "
   ]
  },
  {
   "cell_type": "markdown",
   "metadata": {},
   "source": [
    "1. How many reads map to HA, and how many reads map to NA?"
   ]
  },
  {
   "cell_type": "code",
   "execution_count": 63,
   "metadata": {},
   "outputs": [],
   "source": [
    "# load necessary packages\n",
    "import re\n",
    "import Bio.SeqIO"
   ]
  },
  {
   "cell_type": "code",
   "execution_count": 64,
   "metadata": {},
   "outputs": [],
   "source": [
    "# Read FastQ file and convert to string\n",
    "seqreads = list(Bio.SeqIO.parse('barcodes_R1.fastq', 'fastq'))\n",
    "\n",
    "seqreads_str = []\n",
    "for seqrecord in seqreads:\n",
    "    seqreads_str.append(str(seqrecord.seq))"
   ]
  },
  {
   "cell_type": "code",
   "execution_count": 65,
   "metadata": {},
   "outputs": [],
   "source": [
    "#Creates a function for creating the reverse compliment of a sequence\n",
    "def reverse_complement(seq, unk_partner = 'N'):\n",
    "    \"\"\"Get reverse complement of a DNA sequence.\n",
    "    \n",
    "    Parameters\n",
    "    -----------\n",
    "    seq : str\n",
    "        Uppercase DNA sequence.\n",
    "        \n",
    "    Returns\n",
    "    -------\n",
    "    str\n",
    "        Reverse complement of the sequence in upper case.\n",
    "        \n",
    "    Example\n",
    "    --------\n",
    "    >>> reverse_complement('ATGCAC')\n",
    "    'GTGCAT'\n",
    "    \n",
    "    \"\"\"\n",
    "    base_partner = {'A':'T', 'T':'A', 'C':'G', 'G':'C'}\n",
    "    rseq = ''\n",
    "    for a in seq:\n",
    "        if a in base_partner:\n",
    "            # look up the complementary base in the dictionary\n",
    "            pair = base_partner[a]\n",
    "            rseq = pair + rseq\n",
    "        else:\n",
    "            rseq = unk_partner + rseq\n",
    "    return rseq"
   ]
  },
  {
   "cell_type": "code",
   "execution_count": 66,
   "metadata": {},
   "outputs": [],
   "source": [
    "#define a function to read all HA associated barcodes\n",
    "def read_barcodeHA(seqread, bclen, upstream='AGGCGGCCGC', HAend='CCGGATTTGCATATAATGATGCACCAT'):\n",
    "    \"\"\"Identify barcode with known upstream sequence.\n",
    "    \n",
    "    Parameters\n",
    "    ----------\n",
    "    seqread : str\n",
    "        Nucleotide sequence matching UPSTREAM-BARCODE read in reverse orientation.\n",
    "    bclen : int\n",
    "        Length of barcode\n",
    "    upstream: str\n",
    "        Sequence upstream of the barcode.\n",
    "        \n",
    "    Returns\n",
    "    -------\n",
    "    str or None\n",
    "        Sequence of the barcode in the forward orientation, or `None` if no match to expected barcoded sequence.\n",
    "        \n",
    "    Example\n",
    "    -------\n",
    "    >>> read_barcode('TTTTTTTTTTTTTTTTGCGGCCGCCT', bclen=16)\n",
    "    'AAAAAAAAAAAAAAAA'\n",
    "        \n",
    "    \"\"\"\n",
    "    barcodeHA_re= re.compile(HAend + upstream + '(?P<barcode>[ATCG]{'+ str(bclen) +'})') #compiles list of all HA associated barcodes\n",
    "    listHA=[] \n",
    "    for seq in seqreads:\n",
    "        seq = seq.upper() #converts sequence to Uppercase\n",
    "        seq = reverse_complement(seq) #Creates Reverse complement\n",
    "        matchHA = barcodeHA_re.search(seq) # finds HA associated sequences\n",
    "        if matchHA: \n",
    "            barcode = matchHA.group(\"barcode\")\n",
    "            listHA.append(str(barcode)) #creates a string with all matching barcodes\n",
    "    return listHA"
   ]
  },
  {
   "cell_type": "code",
   "execution_count": 67,
   "metadata": {},
   "outputs": [],
   "source": [
    "#Define a function to read all NA associated barcodes\n",
    "def read_barcodeNA(seqread, bclen, upstream='AGGCGGCCGC', NAend='CACGATAGATAAATAATAGTGCACCAT'): \n",
    "    barcodeNA_re= re.compile(NAend + upstream + '(?P<barcode>[ATCG]{'+ str(bclen) +'})') #compiles list of all NA associated barcodes\n",
    "    listNA=[] \n",
    "    for seq in seqreads:\n",
    "        seq = seq.upper() #Upper case\n",
    "        seq = reverse_complement(seq) #Reverse compliment\n",
    "        matchNA = barcodeNA_re.search(seq) # Finds NA associated reads\n",
    "        if matchNA:\n",
    "            barcode = matchNA.group(\"barcode\")\n",
    "            listNA.append(str(barcode))#creates a string with all matching barcodes\n",
    "    return listNA"
   ]
  },
  {
   "cell_type": "code",
   "execution_count": 68,
   "metadata": {},
   "outputs": [],
   "source": [
    "#Dictionary plus counts of HA barcodes and NA barcodes\n",
    "BarlistHA= read_barcodeHA(seqreads_str, bclen=16) # calls HA barcode function\n",
    "BarlistNA= read_barcodeNA(seqreads_str, bclen=16) # calls NA barcode function\n",
    "BarHACount={}\n",
    "BarNACount={} #initiate empty dictionaries\n",
    "for string in BarlistHA: #focusing on HA first\n",
    "    if string in BarHACount: #adds 1 to count if barcode exists\n",
    "        BarHACount[string]+=1\n",
    "    else: #creates new entry with the value of 1\n",
    "        BarHACount[string]=1\n",
    "for string in BarlistNA: #creating NA dictionary now\n",
    "    if string in BarNACount: #adds 1 to existing barcode\n",
    "        BarNACount[string]+=1\n",
    "    else: #creates new entry with a value of 1\n",
    "        BarNACount[string]=1"
   ]
  },
  {
   "cell_type": "code",
   "execution_count": 71,
   "metadata": {},
   "outputs": [
    {
     "name": "stdout",
     "output_type": "stream",
     "text": [
      "Total reads mapped to HA are 5249\n",
      "Total reads mapped to NA are 3909\n"
     ]
    }
   ],
   "source": [
    "# With Established dictionaries we can sum values\n",
    "HAsum= sum(BarHACount.values())\n",
    "NAsum= sum(BarNACount.values())\n",
    "print(\"Total reads mapped to HA are\", (HAsum))\n",
    "print(\"Total reads mapped to NA are\", (NAsum))"
   ]
  },
  {
   "cell_type": "markdown",
   "metadata": {},
   "source": [
    "2. What is the HA barcode with the most counts (and how many counts)? Also answer the same question for NA.\n",
    "\n",
    "    _Hint: you will need to find the key associated with the maximum value in your dictionary. There are many ways to do this._"
   ]
  },
  {
   "cell_type": "code",
   "execution_count": 74,
   "metadata": {},
   "outputs": [
    {
     "name": "stdout",
     "output_type": "stream",
     "text": [
      "The HA barcode CCCGACCCGACATTAA has the most counts: 155\n",
      "The NA barcode ACCAGTTCTCCCCGGG has the most counts: 152\n"
     ]
    }
   ],
   "source": [
    "#Use the max function to find the largest value in our dictionaries\n",
    "HAnum=max(BarHACount.values())\n",
    "LongestHABar=max(BarHACount, key=BarHACount.get)\n",
    "NAnum=max(BarNACount.values())\n",
    "LongestNABar=max(BarNACount, key=BarNACount.get)\n",
    "print('The HA barcode', LongestHABar, 'has the most counts:',HAnum)\n",
    "print('The NA barcode', LongestNABar, 'has the most counts:',NAnum)"
   ]
  }
 ],
 "metadata": {
  "kernelspec": {
   "display_name": "Python 3 (ipykernel)",
   "language": "python",
   "name": "python3"
  },
  "language_info": {
   "codemirror_mode": {
    "name": "ipython",
    "version": 3
   },
   "file_extension": ".py",
   "mimetype": "text/x-python",
   "name": "python",
   "nbconvert_exporter": "python",
   "pygments_lexer": "ipython3",
   "version": "3.9.13"
  },
  "toc": {
   "nav_menu": {},
   "number_sections": false,
   "sideBar": true,
   "skip_h1_title": false,
   "toc_cell": false,
   "toc_position": {
    "height": "623.8px",
    "left": "0px",
    "right": "829.6px",
    "top": "33.2px",
    "width": "322.4px"
   },
   "toc_section_display": "block",
   "toc_window_display": true
  },
  "vscode": {
   "interpreter": {
    "hash": "d4d1e4263499bec80672ea0156c357c1ee493ec2b1c70f0acce89fc37c4a6abe"
   }
  }
 },
 "nbformat": 4,
 "nbformat_minor": 4
}
